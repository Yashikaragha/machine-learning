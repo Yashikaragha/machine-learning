{
 "cells": [
  {
   "cell_type": "code",
   "execution_count": 1,
   "id": "130df64c",
   "metadata": {},
   "outputs": [
    {
     "name": "stdout",
     "output_type": "stream",
     "text": [
      "enter a number10\n"
     ]
    }
   ],
   "source": [
    "%run D:\\210970071\\sample.py\n",
    "    "
   ]
  },
  {
   "cell_type": "code",
   "execution_count": 3,
   "id": "4c000508",
   "metadata": {},
   "outputs": [
    {
     "name": "stdout",
     "output_type": "stream",
     "text": [
      "107\n",
      "-20\n",
      "2700\n"
     ]
    }
   ],
   "source": [
    "print(b+c)\n",
    "print(a-b)\n",
    "print(a+b*c)"
   ]
  },
  {
   "cell_type": "code",
   "execution_count": null,
   "id": "a8bbf018",
   "metadata": {},
   "outputs": [],
   "source": []
  },
  {
   "cell_type": "code",
   "execution_count": 2,
   "id": "4fd5f234",
   "metadata": {},
   "outputs": [
    {
     "name": "stdout",
     "output_type": "stream",
     "text": [
      "60\n"
     ]
    }
   ],
   "source": [
    "a=20;\n",
    "b=40;\n",
    "c=67;\n",
    "print(a+b)"
   ]
  },
  {
   "cell_type": "code",
   "execution_count": 5,
   "id": "923be6ca",
   "metadata": {},
   "outputs": [
    {
     "name": "stdout",
     "output_type": "stream",
     "text": [
      "2700\n"
     ]
    }
   ],
   "source": [
    "print(a+(b*c))"
   ]
  },
  {
   "cell_type": "code",
   "execution_count": null,
   "id": "16f82891",
   "metadata": {},
   "outputs": [],
   "source": [
    "print(12+13.4)"
   ]
  },
  {
   "cell_type": "code",
   "execution_count": 9,
   "id": "ddd545a9",
   "metadata": {},
   "outputs": [
    {
     "ename": "IndentationError",
     "evalue": "unindent does not match any outer indentation level (<tokenize>, line 17)",
     "output_type": "error",
     "traceback": [
      "\u001b[1;36m  File \u001b[1;32m\"<tokenize>\"\u001b[1;36m, line \u001b[1;32m17\u001b[0m\n\u001b[1;33m    x=(input('enter your number'))\u001b[0m\n\u001b[1;37m    ^\u001b[0m\n\u001b[1;31mIndentationError\u001b[0m\u001b[1;31m:\u001b[0m unindent does not match any outer indentation level\n"
     ]
    }
   ],
   "source": [
    "print(\"\\n 1.add \\n2.sub \\n3.mul \\n 4.div)\n",
    "ch=(input(\"enter your choice\"))\n",
    "      print(\"correct choice\")\n",
    "if ch==1:\n",
    "      x=(input('enter your number'))\n",
    "      y=(input('enter your number'))\n",
    "      print(x+y)\n",
    "      else\n",
    "         print(error)\n",
    "      if ch==2:\n",
    "       x=(input('enter your number'))\n",
    "      y=(input('enter your number'))\n",
    "      print(x+y)\n",
    "      else\n",
    "         print(error)\n",
    "              if ch==3:\n",
    "             x=(input('enter your number'))\n",
    "             y=(input('enter your number'))\n",
    "             print(x+y)\n",
    "                   else\n",
    "               print(error)\n",
    "              if ch==4:\n",
    "               x=(input('enter your number'))\n",
    "               y=(input('enter your number'))\n",
    "              print(x+y)\n",
    "                  else\n",
    "                      print(error)\n",
    "       \n"
   ]
  },
  {
   "cell_type": "code",
   "execution_count": 13,
   "id": "b744715e",
   "metadata": {},
   "outputs": [
    {
     "name": "stdout",
     "output_type": "stream",
     "text": [
      "0.4454443653717479\n"
     ]
    }
   ],
   "source": [
    "import random\n",
    "n=random.random()\n",
    "print(n)"
   ]
  },
  {
   "cell_type": "code",
   "execution_count": 16,
   "id": "6c5c620e",
   "metadata": {},
   "outputs": [
    {
     "name": "stdout",
     "output_type": "stream",
     "text": [
      "15\n"
     ]
    }
   ],
   "source": [
    "import random\n",
    "n=random.randint(0,22)\n",
    "print(n)"
   ]
  },
  {
   "cell_type": "code",
   "execution_count": 32,
   "id": "1cc19bf7",
   "metadata": {},
   "outputs": [
    {
     "name": "stdout",
     "output_type": "stream",
     "text": [
      "[12]\n",
      "[12, 5]\n",
      "[12, 5, 4]\n",
      "[12, 5, 4, 29]\n",
      "[12, 5, 4, 29, 1]\n"
     ]
    }
   ],
   "source": [
    "import random\n",
    "randomlist=[]\n",
    "for i in range(0,5):\n",
    "    n=random.randint(1,30)\n",
    "    randomlist.append(n)\n",
    "    print(randomlist)"
   ]
  },
  {
   "cell_type": "code",
   "execution_count": 33,
   "id": "b349e809",
   "metadata": {},
   "outputs": [
    {
     "name": "stdout",
     "output_type": "stream",
     "text": [
      "[12, 27, 25, 15, 14]\n"
     ]
    }
   ],
   "source": [
    "import random\n",
    "randomlist=random.sample(range(10,30),5)\n",
    "print(randomlist)"
   ]
  },
  {
   "cell_type": "code",
   "execution_count": null,
   "id": "ee458366",
   "metadata": {},
   "outputs": [],
   "source": []
  }
 ],
 "metadata": {
  "kernelspec": {
   "display_name": "Python 3",
   "language": "python",
   "name": "python3"
  },
  "language_info": {
   "codemirror_mode": {
    "name": "ipython",
    "version": 3
   },
   "file_extension": ".py",
   "mimetype": "text/x-python",
   "name": "python",
   "nbconvert_exporter": "python",
   "pygments_lexer": "ipython3",
   "version": "3.8.8"
  }
 },
 "nbformat": 4,
 "nbformat_minor": 5
}
